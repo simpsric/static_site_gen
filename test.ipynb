{
 "cells": [
  {
   "cell_type": "code",
   "execution_count": 8,
   "metadata": {},
   "outputs": [
    {
     "name": "stdout",
     "output_type": "stream",
     "text": [
      "Match found:\n",
      "Match found:\n",
      "Match found:\n",
      "Match found:\n",
      "Match found:\n",
      "No match found.\n",
      "Match found:\n"
     ]
    }
   ],
   "source": [
    "import re\n",
    "\n",
    "test_texts = [\n",
    "    \"## This is a MD header\",\n",
    "    \"### This is a MD header\",\n",
    "    \"#### This is a MD header\",\n",
    "    \"##### This is a MD header\",\n",
    "    \"###### This is a MD header\",\n",
    "    \"####### This is not a MD header\",\n",
    "    \"# This is a MD header\"\n",
    "]\n",
    "\n",
    "for test_text in test_texts:\n",
    "    if re.match(r\"^#{1,6} \", test_text):\n",
    "        print(\"Match found:\")\n",
    "    else:\n",
    "        print(\"No match found.\")"
   ]
  },
  {
   "cell_type": "code",
   "execution_count": null,
   "metadata": {},
   "outputs": [],
   "source": []
  }
 ],
 "metadata": {
  "kernelspec": {
   "display_name": "Python 3",
   "language": "python",
   "name": "python3"
  },
  "language_info": {
   "codemirror_mode": {
    "name": "ipython",
    "version": 3
   },
   "file_extension": ".py",
   "mimetype": "text/x-python",
   "name": "python",
   "nbconvert_exporter": "python",
   "pygments_lexer": "ipython3",
   "version": "3.12.3"
  }
 },
 "nbformat": 4,
 "nbformat_minor": 2
}
